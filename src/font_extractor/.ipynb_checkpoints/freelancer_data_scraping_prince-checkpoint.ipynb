{
 "cells": [
  {
   "cell_type": "code",
   "execution_count": 1,
   "metadata": {},
   "outputs": [],
   "source": [
    "from selenium import webdriver\n",
    "from selenium.webdriver.firefox.options import Options\n",
    "from selenium.webdriver.common.keys import Keys\n",
    "from selenium.webdriver.support.ui import Select\n",
    "from time import sleep\n",
    "import urllib.request\n",
    "from bs4 import BeautifulSoup\n",
    "from requests import get\n",
    "import os\n",
    "import inspect"
   ]
  },
  {
   "cell_type": "code",
   "execution_count": 2,
   "metadata": {},
   "outputs": [],
   "source": [
    "options = Options()\n",
    "options.headless = True\n",
    "#options.add_argument(\"window-size=400,600\")\n",
    "\n",
    "driver = webdriver.Firefox(options=options)\n",
    "\n",
    "url_ = \"https://maharerait.mahaonline.gov.in/searchlist/search\"\n",
    "\n",
    "driver.get(url_)"
   ]
  },
  {
   "cell_type": "code",
   "execution_count": 3,
   "metadata": {},
   "outputs": [
    {
     "name": "stdout",
     "output_type": "stream",
     "text": [
      "Login Page : Maharashtra Real Estate Regulatory Authority\n"
     ]
    }
   ],
   "source": [
    "url_ = \"https://maharerait.mahaonline.gov.in/searchlist/search\"\n",
    "driver.get(url_)\n",
    "print(driver.title)"
   ]
  },
  {
   "cell_type": "code",
   "execution_count": 7,
   "metadata": {},
   "outputs": [
    {
     "name": "stdout",
     "output_type": "stream",
     "text": [
      "None\n"
     ]
    }
   ],
   "source": [
    "elems = driver.find_elements_by_class_name(\"search-pro-details\")\n",
    "print(elems[0].click())"
   ]
  },
  {
   "cell_type": "code",
   "execution_count": 8,
   "metadata": {},
   "outputs": [
    {
     "name": "stdout",
     "output_type": "stream",
     "text": [
      "None\n"
     ]
    }
   ],
   "source": [
    "sleep(2)\n",
    "elems = driver.find_element_by_id(\"Agent\")\n",
    "print(elems.click())"
   ]
  },
  {
   "cell_type": "code",
   "execution_count": 9,
   "metadata": {},
   "outputs": [
    {
     "name": "stdout",
     "output_type": "stream",
     "text": [
      "None\n"
     ]
    }
   ],
   "source": [
    "elems = driver.find_element_by_id(\"btnAdvance\")\n",
    "print(elems.click())"
   ]
  },
  {
   "cell_type": "code",
   "execution_count": 10,
   "metadata": {},
   "outputs": [],
   "source": [
    "content = driver.page_source"
   ]
  },
  {
   "cell_type": "code",
   "execution_count": 11,
   "metadata": {},
   "outputs": [],
   "source": [
    "elems = driver.find_element_by_id(\"State\")\n",
    "stateDrp = Select(driver.find_element_by_id(\"State\"))\n",
    "stateDrp.select_by_visible_text(\"MAHARASHTRA\")\n",
    "#inspect.getmembers(stateDrp._setSelected(\"MAHARASHTRA\"))"
   ]
  },
  {
   "cell_type": "code",
   "execution_count": 12,
   "metadata": {},
   "outputs": [
    {
     "name": "stdout",
     "output_type": "stream",
     "text": [
      "1  : Ahmednagar\n",
      "2  : Akola\n",
      "3  : Amravati\n",
      "4  : Aurangabad\n",
      "5  : beed\n",
      "6  : Bhandara\n",
      "7  : Buldana\n",
      "8  : Chandrapur\n",
      "9  : Dhule\n",
      "10  : Gadchiroli\n",
      "11  : Gondiya\n",
      "12  : Hingoli\n",
      "13  : Jalgaon\n",
      "14  : Jalna\n",
      "15  : Kolhapur\n",
      "16  : Latur\n",
      "17  : Mumbai City\n",
      "18  : Mumbai Suburban\n",
      "19  : Nagpur\n",
      "20  : Nanded\n",
      "21  : Nandurbar\n",
      "22  : Nashik\n",
      "23  : Osmanabad\n",
      "24  : Palghar\n",
      "25  : Parbhani\n",
      "26  : Pune\n",
      "27  : Raigarh\n",
      "28  : Ratnagiri\n",
      "29  : Sangli\n",
      "30  : Satara\n",
      "31  : Sindhudurg\n",
      "32  : Solapur\n",
      "33  : Thane\n",
      "34  : Wardha\n",
      "35  : Washim\n",
      "36  : Yavatmal\n",
      "['', 'Ahmednagar', 'Akola', 'Amravati', 'Aurangabad', 'beed', 'Bhandara', 'Buldana', 'Chandrapur', 'Dhule', 'Gadchiroli', 'Gondiya', 'Hingoli', 'Jalgaon', 'Jalna', 'Kolhapur', 'Latur', 'Mumbai City', 'Mumbai Suburban', 'Nagpur', 'Nanded', 'Nandurbar', 'Nashik', 'Osmanabad', 'Palghar', 'Parbhani', 'Pune', 'Raigarh', 'Ratnagiri', 'Sangli', 'Satara', 'Sindhudurg', 'Solapur', 'Thane', 'Wardha', 'Washim', 'Yavatmal']\n",
      "Buldana\n"
     ]
    }
   ],
   "source": [
    "distDrp = Select(driver.find_element_by_id(\"District\"))\n",
    "\n",
    "dist_num = 7\n",
    "dists = []\n",
    "\n",
    "dists.append('')\n",
    "for index, option in enumerate(distDrp.options):\n",
    "    if(index > 0):\n",
    "        dists.append(option.get_attribute(\"innerHTML\"))\n",
    "        print(index, \" : \" + option.get_attribute(\"innerHTML\"))\n",
    "        \n",
    "print(dists)\n",
    "print(dists[dist_num])"
   ]
  },
  {
   "cell_type": "code",
   "execution_count": 13,
   "metadata": {},
   "outputs": [],
   "source": [
    "distDrp.select_by_visible_text(dists[dist_num])"
   ]
  },
  {
   "cell_type": "code",
   "execution_count": 14,
   "metadata": {},
   "outputs": [
    {
     "name": "stdout",
     "output_type": "stream",
     "text": [
      "None\n"
     ]
    }
   ],
   "source": [
    "elems = driver.find_element_by_id(\"btnSearch\")\n",
    "print(elems.click())\n",
    "sleep(2)"
   ]
  },
  {
   "cell_type": "code",
   "execution_count": 20,
   "metadata": {},
   "outputs": [
    {
     "name": "stdout",
     "output_type": "stream",
     "text": [
      "0  : Information Type\n",
      "1  : Other Than Individual\n",
      "2  : \n",
      "3  : Name\n",
      "4  : DREAM VISION ADVISORS PVT. LTD.\n",
      "5  : Organization Type\n",
      "6  : Company\n",
      "7  : Description For Other Type Organization\n",
      "8  : NA\n",
      "9  : Do you have any Past Experience ?\n",
      "10  : Yes\n",
      "11  : Block Number\n",
      "12  : 1\n",
      "13  : Building Name\n",
      "14  : YOGIRAJ APARTMENTS\n",
      "15  : Street Name\n",
      "16  : OPP BDCC BANK\n",
      "17  : Locality\n",
      "18  : BHONDE SARKAR CHOWK\n",
      "19  : Land mark\n",
      "20  : BHONDE SARKAR CHOWK\n",
      "21  : State/UT\n",
      "22  : MAHARASHTRA\n",
      "23  : Division\n",
      "24  : Amravati\n",
      "25  : District\n",
      "26  : Buldana\n",
      "27  : Taluka\n",
      "28  : Buldana\n",
      "29  : Village\n",
      "30  : buldana (MCL)\n",
      "31  : Pin Code\n",
      "32  : 443001\n",
      "33  : Office Number\n",
      "34  : 07262247201\n",
      "35  : Website URL\n",
      "36  : \n",
      "37  : \n",
      "38  : Aadhar No. :\n",
      "39  : \n",
      "40  : House No. :\n",
      "41  : \n",
      "42  : Building :\n",
      "43  : \n",
      "44  : Street :\n",
      "45  : \n",
      "46  : Locality :\n",
      "47  : \n",
      "48  : LandMark :\n",
      "49  : \n",
      "50  : State/UT :\n",
      "51  : \n",
      "52  : Division :\n",
      "53  : \n",
      "54  : District :\n",
      "55  : \n",
      "56  : Taluka :\n",
      "57  : \n",
      "58  : Village :\n",
      "59  : \n",
      "60  : Pincode :\n",
      "61  : \n",
      "Completed\n"
     ]
    }
   ],
   "source": [
    "with open(dists[dist_num] + '.csv', 'w') as file:\n",
    "    file.write(\n",
    "        \"Agent Name\" + ','\n",
    "        + \"Certificate Number\" + ','\n",
    "        + \"Agent Type\" + ','\n",
    "        + \"Block Number\" + ','\n",
    "        + \"Building Name\" + ','\n",
    "        + \"Street Name\" + ','\n",
    "        + \"Locality\" + ','\n",
    "        + \"Landmark\" + ','\n",
    "        + \"State\" + ','\n",
    "        + \"Division\" + ','\n",
    "        + \"District\" + ','\n",
    "        + \"Taluka\" + ','\n",
    "        + \"Village\" + ','\n",
    "        + \"Pin Code\" + ','\n",
    "        + \"Office Number\" + ','\n",
    "        + \"Website URL\" + ','\n",
    "        + '\\n'\n",
    "    )\n",
    "    \n",
    "    find_agents(driver.page_source)"
   ]
  },
  {
   "cell_type": "code",
   "execution_count": 16,
   "metadata": {},
   "outputs": [],
   "source": [
    "def find_agents(html):\n",
    "    soup = BeautifulSoup(html, \"html.parser\")\n",
    "    rows = soup.find_all(\"tr\", class_='grid-row')\n",
    "    for agent_row in rows:\n",
    "        cert = agent_row.find_all(\"td\", class_='grid-cell')[2].text\n",
    "        #print(cert)\n",
    "        link = agent_row.find_all(\"td\", class_='grid-cell')[3].find_all(\"a\")[0].attrs['href']\n",
    "        #print(link.find_all(\"a\")[0].attrs['href'])\n",
    "        Agent(link, cert)\n",
    "    print('Completed')"
   ]
  },
  {
   "cell_type": "code",
   "execution_count": 19,
   "metadata": {},
   "outputs": [],
   "source": [
    "def Agent(link, cert):\n",
    "    global file\n",
    "    url_ = 'https://maharerait.mahaonline.gov.in' + link\n",
    "    r = get(url_)\n",
    "\n",
    "    html = BeautifulSoup(r.content, \"html.parser\")\n",
    "    datas = html.find_all(\"div\", class_='col-md-3')\n",
    "    \n",
    "    if (datas[1].text.strip() != 'Individual'):\n",
    "        for index, data in enumerate(datas):\n",
    "            print(index, \" : \" + data.text.strip())\n",
    "    \n",
    "    file.write(datas[4].text.strip() + ' ' + datas[6].text.strip() + ' ' + datas[8].text.strip() + ','\n",
    "               + cert + ','\n",
    "               '\"' + datas[1].text.strip() + '\",'\n",
    "               '\"' + datas[18].text.strip() + '\",'\n",
    "               '\"' + datas[20].text.strip() + '\",'\n",
    "               '\"' + datas[22].text.strip() + '\",'\n",
    "               '\"' + datas[24].text.strip() + '\",'\n",
    "               '\"' + datas[26].text.strip() + '\",'\n",
    "               '\"' + datas[28].text.strip() + '\",'\n",
    "               '\"' + datas[30].text.strip() + '\",'\n",
    "               '\"' + datas[32].text.strip() + '\",'\n",
    "               '\"' + datas[34].text.strip() + '\",'\n",
    "               '\"' + datas[36].text.strip() + '\",'\n",
    "               '\"' + datas[38].text.strip() + '\",'\n",
    "               '\"' + datas[40].text.strip() + '\",'\n",
    "               '\"' + datas[42].text.strip() + '\",'\n",
    "               + '\\n'\n",
    "              )\n",
    "    \n",
    "    #for index, data in enumerate(datas):\n",
    "        #print(index, \" : \" + data.text.strip())"
   ]
  },
  {
   "cell_type": "code",
   "execution_count": null,
   "metadata": {},
   "outputs": [],
   "source": []
  }
 ],
 "metadata": {
  "kernelspec": {
   "display_name": "Python 3",
   "language": "python",
   "name": "python3"
  },
  "language_info": {
   "codemirror_mode": {
    "name": "ipython",
    "version": 3
   },
   "file_extension": ".py",
   "mimetype": "text/x-python",
   "name": "python",
   "nbconvert_exporter": "python",
   "pygments_lexer": "ipython3",
   "version": "3.6.9"
  }
 },
 "nbformat": 4,
 "nbformat_minor": 2
}
